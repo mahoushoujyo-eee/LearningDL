{
 "cells": [
  {
   "cell_type": "code",
   "execution_count": null,
   "metadata": {},
   "outputs": [],
   "source": [
    "import pandas as pd\n",
    "import numpy as np\n",
    "from torch import nn\n",
    "import torch\n",
    "from torch.utils.data import Dataset, DataLoader\n",
    "import torch.optim as optim\n"
   ]
  },
  {
   "cell_type": "code",
   "execution_count": null,
   "metadata": {},
   "outputs": [],
   "source": [
    "data = pd.read_csv('../data/train.csv')"
   ]
  },
  {
   "cell_type": "code",
   "execution_count": null,
   "metadata": {},
   "outputs": [],
   "source": [
    "data.head()"
   ]
  },
  {
   "cell_type": "code",
   "execution_count": null,
   "metadata": {},
   "outputs": [],
   "source": [
    "result = data.isna().sum()\n",
    "result[result > 0]\n"
   ]
  },
  {
   "cell_type": "code",
   "execution_count": null,
   "metadata": {},
   "outputs": [],
   "source": [
    "#过滤无用列\n",
    "data = data.drop(['Id', 'Alley', 'PoolQC', 'Fence', 'MiscFeature'], axis=1)\n",
    "data.head()"
   ]
  },
  {
   "cell_type": "code",
   "execution_count": null,
   "metadata": {},
   "outputs": [],
   "source": [
    "numeric_cols = data.select_dtypes(include=np.number).columns.tolist()\n",
    "non_numeric_cols = data.select_dtypes(exclude=np.number).columns.tolist()\n",
    "\n",
    "fill_values = {}\n",
    "for col in numeric_cols:\n",
    "    if data[col].isnull().any(): # 仅对有空值的数字列计算均值\n",
    "        fill_values[col] = data[col].mean()\n",
    "data.fillna(fill_values, inplace=True)\n",
    "\n",
    "for col in non_numeric_cols:\n",
    "    if data[col].isnull().any(): # 仅对有空值的非数字列进行操作\n",
    "        data[col].fillna(data[col].mode()[0], inplace=True)\n",
    "    data = pd.get_dummies(data, columns=[col], prefix=[col])\n",
    "\n",
    "bool_cols = data.select_dtypes(include='bool').columns.tolist()\n",
    "\n",
    "for col in bool_cols:\n",
    "    data[col] = data[col].astype(int)\n",
    "\n"
   ]
  },
  {
   "cell_type": "code",
   "execution_count": null,
   "metadata": {},
   "outputs": [],
   "source": [
    "x = data.drop(['SalePrice'], axis=1)\n",
    "y = data['SalePrice']\n",
    "\n",
    "X_numpy = x.values\n",
    "y_numpy = y.values\n",
    "\n",
    "X_tensor = torch.tensor(X_numpy, dtype=torch.float32)\n",
    "y_tensor = torch.tensor(y_numpy, dtype=torch.float32)\n",
    "\n",
    "epsilon = 1e-8 # 一个非常小的正数\n",
    "X_std = X_std + epsilon # 这样可以确保分母不为0\n",
    "\n",
    "X_mean, X_std = X_tensor.mean(dim=0), X_tensor.std(dim=0)\n",
    "y_mean, y_std = y_tensor.mean(), y_tensor.std()\n",
    "X_tensor = (X_tensor - X_mean) / X_std\n",
    "y_tensor = (y_tensor - y_mean) / y_std  "
   ]
  },
  {
   "cell_type": "code",
   "execution_count": null,
   "metadata": {},
   "outputs": [],
   "source": [
    "print(\"X_std最小值:\", X_std.min())  # 如果有0会导致除零错误\n",
    "print(\"y_std:\", y_std)             # 应为非零\n"
   ]
  },
  {
   "cell_type": "code",
   "execution_count": null,
   "metadata": {},
   "outputs": [],
   "source": [
    "batch_size = 32 # 常用批次大小\n",
    "output_dim = 1\n",
    "\n",
    "\n",
    "class MLPRegressor(nn.Module):\n",
    "    def __init__(self, input_dim):\n",
    "        super(MLPRegressor, self).__init__()\n",
    "        self.fc1 = nn.Linear(input_dim, 128)  # 输入层到第一个隐藏层\n",
    "        self.relu1 = nn.ReLU()                # 激活函数\n",
    "        self.dropout1 = nn.Dropout(0.2)       # Dropout 层，用于防止过拟合\n",
    "\n",
    "        self.fc2 = nn.Linear(128, 64)         # 第一个隐藏层到第二个隐藏层\n",
    "        self.relu2 = nn.ReLU()\n",
    "        self.dropout2 = nn.Dropout(0.2)\n",
    "\n",
    "        self.fc3 = nn.Linear(64, output_dim)  # 第二个隐藏层到输出层\n",
    "\n",
    "    def forward(self, x):\n",
    "        x = self.fc1(x)\n",
    "        x = self.relu1(x)\n",
    "        x = self.dropout1(x)\n",
    "\n",
    "        x = self.fc2(x)\n",
    "        x = self.relu2(x)\n",
    "        x = self.dropout2(x)\n",
    "\n",
    "        x = self.fc3(x)\n",
    "        return x\n",
    "\n",
    "class CustomDataset(Dataset):\n",
    "    def __init__(self, features, labels):\n",
    "        self.features = features\n",
    "        self.labels = labels\n",
    "\n",
    "    def __len__(self):\n",
    "        return len(self.features)\n",
    "\n",
    "    def __getitem__(self, idx):\n",
    "        return self.features[idx], self.labels[idx]\n",
    "\n",
    "# 创建 Dataset 实例\n",
    "train_dataset = CustomDataset(X_tensor, y_tensor)\n",
    "\n",
    "# 创建 DataLoader 实例\n",
    "train_loader = DataLoader(train_dataset, batch_size=batch_size, shuffle=True)"
   ]
  },
  {
   "cell_type": "code",
   "execution_count": null,
   "metadata": {},
   "outputs": [],
   "source": [
    "model = MLPRegressor(X_tensor.shape[1])\n",
    "\n",
    "criterion = nn.MSELoss() # 均方误差，回归任务常用\n",
    "optimizer = optim.Adam(model.parameters(), lr=0.001) # Adam 优化器，学习率 0.001\n",
    "num_epochs = 100 # 训练轮次"
   ]
  },
  {
   "cell_type": "code",
   "execution_count": null,
   "metadata": {},
   "outputs": [],
   "source": [
    "for epoch in range(num_epochs):\n",
    "    model.train() # 设置模型为训练模式\n",
    "    running_loss = 0.0\n",
    "    for features, labels in train_loader:\n",
    "        # 前向传播\n",
    "        outputs = model(features)\n",
    "        loss = criterion(outputs, labels.unsqueeze(1)) \n",
    "\n",
    "        # 反向传播和优化\n",
    "        optimizer.zero_grad() # 清空梯度\n",
    "        loss.backward()       # 计算梯度\n",
    "        optimizer.step()      # 更新权重\n",
    "\n",
    "        running_loss += loss.item() * features.size(0) # 累加损失\n",
    "\n",
    "    epoch_loss = running_loss / len(train_dataset)\n",
    "    print(f\"Epoch [{epoch+1}/{num_epochs}], Loss: {epoch_loss:.4f}\")"
   ]
  },
  {
   "cell_type": "code",
   "execution_count": null,
   "metadata": {},
   "outputs": [],
   "source": [
    "test_data = pd.read_csv('../data/test.csv')\n",
    "test_data = test_data.drop(['Id', 'Alley', 'PoolQC', 'Fence', 'MiscFeature'], axis=1)\n",
    "numeric_cols = test_data.select_dtypes(include=np.number).columns.tolist()\n",
    "non_numeric_cols = test_data.select_dtypes(exclude=np.number).columns.tolist()\n",
    "\n",
    "fill_values = {}\n",
    "for col in numeric_cols:\n",
    "    if test_data[col].isnull().any(): # 仅对有空值的数字列计算均值\n",
    "        fill_values[col] = test_data[col].mean()\n",
    "test_data.fillna(fill_values, inplace=True)\n",
    "\n",
    "for col in non_numeric_cols:\n",
    "    if test_data[col].isnull().any(): # 仅对有空值的非数字列进行操作\n",
    "        test_data[col].fillna(test_data[col].mode()[0], inplace=True)\n",
    "    test_data = pd.get_dummies(test_data, columns=[col], prefix=[col])\n",
    "\n",
    "bool_cols = test_data.select_dtypes(include='bool').columns.tolist()\n",
    "\n",
    "for col in bool_cols:\n",
    "    test_data[col] = test_data[col].astype(int)\n"
   ]
  },
  {
   "cell_type": "code",
   "execution_count": null,
   "metadata": {},
   "outputs": [],
   "source": [
    "# 获取训练时的特征列名\n",
    "train_columns = data.drop(['SalePrice'], axis=1).columns  \n",
    "\n",
    "# 对测试集进行特征对齐\n",
    "missing_cols = set(train_columns) - set(test_data.columns)\n",
    "for col in missing_cols:\n",
    "    test_data[col] = 0  # 缺失的特征列补0\n",
    "\n",
    "# 确保列顺序一致\n",
    "test_data = test_data[train_columns]"
   ]
  },
  {
   "cell_type": "code",
   "execution_count": null,
   "metadata": {},
   "outputs": [],
   "source": [
    "x = test_data\n",
    "\n",
    "X_numpy = x.values\n",
    "X_tensor = torch.tensor(X_numpy, dtype=torch.float32)\n",
    "X_mean, X_std = X_tensor.mean(dim=0), X_tensor.std(dim=0)\n",
    "epsilon = 1e-8 # 一个非常小的正数\n",
    "X_std = X_std + epsilon # 这样可以确保分母不为0\n",
    "X_tensor = (X_tensor - X_mean) / X_std\n",
    "\n",
    "class TestDataset(Dataset):\n",
    "    def __init__(self, features_tensor):\n",
    "        self.features = features_tensor\n",
    "        \n",
    "    def __len__(self):\n",
    "        return len(self.features)\n",
    "        \n",
    "    def __getitem__(self, idx):\n",
    "        return self.features[idx]\n",
    "\n",
    "test_dataset = TestDataset(X_tensor)\n",
    "\n",
    "test_loader = DataLoader(\n",
    "    test_dataset,\n",
    "    batch_size=32,  # 与训练时相同\n",
    "    shuffle=False   # 测试集不需要打乱\n",
    ")\n"
   ]
  },
  {
   "cell_type": "code",
   "execution_count": null,
   "metadata": {},
   "outputs": [],
   "source": [
    "model.eval()\n",
    "all_preds = []\n",
    "\n",
    "with torch.no_grad():\n",
    "    for batch in test_loader:\n",
    "        print(batch)\n",
    "        outputs = model(batch)\n",
    "        # 反标准化预测结果\n",
    "        preds = outputs.squeeze() * y_std + y_mean  \n",
    "        all_preds.extend(preds.numpy())\n",
    "        print(outputs)\n",
    "\n",
    "# 转换为Kaggle提交格式\n",
    "submission = pd.DataFrame({\n",
    "    'Id': pd.read_csv('../data/test.csv')['Id'],\n",
    "    'SalePrice': np.clip(all_preds, 0, None)  # 确保价格非负\n",
    "})\n",
    "submission.to_csv('submission.csv', index=False)\n",
    "\n",
    "all_preds\n"
   ]
  }
 ],
 "metadata": {
  "language_info": {
   "name": "python"
  }
 },
 "nbformat": 4,
 "nbformat_minor": 2
}
